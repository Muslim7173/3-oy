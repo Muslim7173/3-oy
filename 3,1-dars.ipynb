{
 "cells": [
  {
   "cell_type": "markdown",
   "id": "281cec41",
   "metadata": {},
   "source": [
    "# Quyidagi misollarni oddiy va lambda funksiyadan foydalanib bajaring\n",
    "1. [3,5,6] sonlar kvadratlarini yug'indisini topadigan funksiya yozing\n",
    "2. 1 dan 10 gacha bo'lgan sonlar orasidan juftlarini/toqlarini sonini topadigan funksiya yozing\n",
    "3. 1 dan 10 gacha bo'lgan sonlar orasidan o'rta arifmetigi/geometrigini aniqlaydigan topadigan funksiya yozing\n",
    "4. [1,4,6] sonlar orasidan eng katta/kichik va o'rtanchasini topadigan funksiya yozing\n",
    "5. Berilgan so'zdagi unlilar sonini topadigan funksiya yozing"
   ]
  },
  {
   "cell_type": "code",
   "execution_count": 2,
   "id": "d1a5d471",
   "metadata": {},
   "outputs": [],
   "source": [
    "def daraja_yigindisi(x,y,z):\n",
    "    print(x**2+y**2+z**2)"
   ]
  },
  {
   "cell_type": "code",
   "execution_count": 4,
   "id": "87fef39a",
   "metadata": {},
   "outputs": [
    {
     "name": "stdout",
     "output_type": "stream",
     "text": [
      "70\n"
     ]
    }
   ],
   "source": [
    "daraja_yigindisi(3,5,6)"
   ]
  },
  {
   "cell_type": "code",
   "execution_count": 11,
   "id": "6181ccbf",
   "metadata": {},
   "outputs": [
    {
     "name": "stdout",
     "output_type": "stream",
     "text": [
      "0 is even\n",
      "1 is odd\n",
      "2 is even\n",
      "3 is odd\n",
      "4 is even\n",
      "5 is odd\n",
      "6 is even\n",
      "7 is odd\n",
      "8 is even\n",
      "9 is odd\n",
      "10 is even\n"
     ]
    }
   ],
   "source": [
    "def juft_va_toq():\n",
    "    for son in range(0,11):\n",
    "        if son % 2 == 0:\n",
    "             print(f\"{son} is even\")\n",
    "        else:\n",
    "            print(f\"{son} is odd\")\n",
    "\n",
    "juft_va_toq()"
   ]
  },
  {
   "cell_type": "code",
   "execution_count": null,
   "id": "2321488b",
   "metadata": {},
   "outputs": [
    {
     "name": "stdout",
     "output_type": "stream",
     "text": [
      "O‘rta arifmetik: 5.5\n",
      "O‘rta geometrik: 4.528728688116765\n"
     ]
    }
   ],
   "source": [
    "def ortacha_topish():\n",
    "    sonlar = list(range(1, 11))  \n",
    "      arifmetik = sum(sonlar) / len(sonlar)\n",
    "\n",
    "    kopaytma = 1\n",
    "    for son in sonlar:\n",
    "        kopaytma *= son\n",
    "    geometrik = kopaytma ** (1 / len(sonlar))\n",
    "\n",
    "    print(f\"O‘rta arifmetik: {arifmetik}\")\n",
    "    print(f\"O‘rta geometrik: {geometrik}\")\n",
    "\n",
    "\n",
    "ortacha_topish()\n"
   ]
  },
  {
   "cell_type": "code",
   "execution_count": 30,
   "id": "a98a9046",
   "metadata": {},
   "outputs": [
    {
     "name": "stdout",
     "output_type": "stream",
     "text": [
      "1\n",
      "6\n",
      "4\n"
     ]
    }
   ],
   "source": [
    "import statistics\n",
    "numbers=[1,4,6]\n",
    "eng_kichik = min(1,4,6)\n",
    "eng_katta = max(1,4,6)\n",
    "ortancha = statistics.median(numbers)\n",
    "\n",
    "print(f\"{eng_kichik}\")\n",
    "print(f\"{eng_katta}\")\n",
    "print(f\"{ortancha}\")"
   ]
  },
  {
   "cell_type": "code",
   "execution_count": 34,
   "id": "3ca64af7",
   "metadata": {},
   "outputs": [
    {
     "name": "stdout",
     "output_type": "stream",
     "text": [
      "3\n",
      "3\n"
     ]
    }
   ],
   "source": [
    "def count_vowels(word):\n",
    "    vowels = \"aeiouAEIOU\"\n",
    "    count = 0\n",
    "\n",
    "    for i in word:\n",
    "        if i in vowels:\n",
    "            count += 1\n",
    "\n",
    "    return count\n",
    "\n",
    "\n",
    "print(count_vowels(\"Computer\"))  \n",
    "print(count_vowels(\"Alphabet\")) \n"
   ]
  },
  {
   "cell_type": "code",
   "execution_count": null,
   "id": "a8613e1a",
   "metadata": {},
   "outputs": [],
   "source": []
  }
 ],
 "metadata": {
  "kernelspec": {
   "display_name": "base",
   "language": "python",
   "name": "python3"
  },
  "language_info": {
   "codemirror_mode": {
    "name": "ipython",
    "version": 3
   },
   "file_extension": ".py",
   "mimetype": "text/x-python",
   "name": "python",
   "nbconvert_exporter": "python",
   "pygments_lexer": "ipython3",
   "version": "3.11.3"
  }
 },
 "nbformat": 4,
 "nbformat_minor": 5
}
